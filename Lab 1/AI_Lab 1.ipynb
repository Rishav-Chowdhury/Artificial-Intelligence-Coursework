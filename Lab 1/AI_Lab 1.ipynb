{
  "nbformat": 4,
  "nbformat_minor": 0,
  "metadata": {
    "colab": {
      "name": "AI_Lab 1.ipynb",
      "provenance": [],
      "authorship_tag": "ABX9TyPwb3wuC/VfZyqDRXs2AQJw",
      "include_colab_link": true
    },
    "kernelspec": {
      "name": "python3",
      "display_name": "Python 3"
    },
    "language_info": {
      "name": "python"
    }
  },
  "cells": [
    {
      "cell_type": "markdown",
      "metadata": {
        "id": "view-in-github",
        "colab_type": "text"
      },
      "source": [
        "<a href=\"https://colab.research.google.com/github/Rishav-Chowdhury/Artificial-Intelligence-Coursework/blob/main/AI_Lab_1.ipynb\" target=\"_parent\"><img src=\"https://colab.research.google.com/assets/colab-badge.svg\" alt=\"Open In Colab\"/></a>"
      ]
    },
    {
      "cell_type": "code",
      "metadata": {
        "colab": {
          "base_uri": "https://localhost:8080/"
        },
        "id": "0kjcYkee3vOx",
        "outputId": "2053f488-c9de-45e7-a36a-dde42507c4a2"
      },
      "source": [
        "#Camel and Bananas Problem\n",
        "\n",
        "t=int(input('Number of Bananas: '))\n",
        "d=int(input('Total Distance: '))\n",
        "c=int(input('Load Capacity of Camel: '))\n",
        "l=0\n",
        "s=t\n",
        "\n",
        "for i in range(d):\n",
        "    while s>0:\n",
        "        s=s-c\n",
        "        if s==1:\n",
        "            l=l-1\n",
        "        l=l+2\n",
        "    l=l-1\n",
        "    s=t-l\n",
        "    if s==0:\n",
        "        break\n",
        "\n",
        "print(\"Number of Bananas left:\" ,s)"
      ],
      "execution_count": 2,
      "outputs": [
        {
          "output_type": "stream",
          "text": [
            "Number of Bananas: 3000\n",
            "Total Distance: 1000\n",
            "Load Capacity of Camel: 1000\n",
            "Number of Bananas left: 533\n"
          ],
          "name": "stdout"
        }
      ]
    },
    {
      "cell_type": "code",
      "metadata": {
        "colab": {
          "base_uri": "https://localhost:8080/"
        },
        "id": "R48h1UO_RAIZ",
        "outputId": "07307930-5e4c-46cf-cc7b-898170382985"
      },
      "source": [
        "import math\n",
        "\n",
        "#______________________________________________________________________________\n",
        "# Missionaries and Cannibals Problem\n",
        "\n",
        "class State():\n",
        "\tdef __init__(self, cannibalLeft, missionaryLeft, boat, cannibalRight, missionaryRight):\n",
        "\t\tself.cannibalLeft = cannibalLeft\n",
        "\t\tself.missionaryLeft = missionaryLeft\n",
        "\t\tself.boat = boat\n",
        "\t\tself.cannibalRight = cannibalRight\n",
        "\t\tself.missionaryRight = missionaryRight\n",
        "\t\tself.parent = None\n",
        "\n",
        "\tdef is_goal(self):\n",
        "\t\tif self.cannibalLeft == 0 and self.missionaryLeft == 0:\n",
        "\t\t\treturn True\n",
        "\t\telse:\n",
        "\t\t\treturn False\n",
        "\n",
        "\tdef is_valid(self):\n",
        "\t\tif self.missionaryLeft >= 0 and self.missionaryRight >= 0 \\\n",
        "                   and self.cannibalLeft >= 0 and self.cannibalRight >= 0 \\\n",
        "                   and (self.missionaryLeft == 0 or self.missionaryLeft >= self.cannibalLeft) \\\n",
        "                   and (self.missionaryRight == 0 or self.missionaryRight >= self.cannibalRight):\n",
        "\t\t\treturn True\n",
        "\t\telse:\n",
        "\t\t\treturn False\n",
        "\n",
        "\tdef __eq__(self, other):\n",
        "\t\treturn self.cannibalLeft == other.cannibalLeft and self.missionaryLeft == other.missionaryLeft \\\n",
        "                   and self.boat == other.boat and self.cannibalRight == other.cannibalRight \\\n",
        "                   and self.missionaryRight == other.missionaryRight\n",
        "\n",
        "\tdef __hash__(self):\n",
        "\t\treturn hash((self.cannibalLeft, self.missionaryLeft, self.boat, self.cannibalRight, self.missionaryRight))\n",
        "\n",
        "def successors(cur_state):\n",
        "\tchildren = [];\n",
        "\tif cur_state.boat == 'left':\n",
        "\t\tnew_state = State(cur_state.cannibalLeft, cur_state.missionaryLeft - 2, 'right',\n",
        "                                  cur_state.cannibalRight, cur_state.missionaryRight + 2)\n",
        "\t\t## Two missionaries cross left to right.\n",
        "\t\tif new_state.is_valid():\n",
        "\t\t\tnew_state.parent = cur_state\n",
        "\t\t\tchildren.append(new_state)\n",
        "\t\tnew_state = State(cur_state.cannibalLeft - 2, cur_state.missionaryLeft, 'right',\n",
        "                                  cur_state.cannibalRight + 2, cur_state.missionaryRight)\n",
        "\t\t## Two cannibals cross left to right.\n",
        "\t\tif new_state.is_valid():\n",
        "\t\t\tnew_state.parent = cur_state\n",
        "\t\t\tchildren.append(new_state)\n",
        "\t\tnew_state = State(cur_state.cannibalLeft - 1, cur_state.missionaryLeft - 1, 'right',\n",
        "                                  cur_state.cannibalRight + 1, cur_state.missionaryRight + 1)\n",
        "\t\t## One missionary and one cannibal cross left to right.\n",
        "\t\tif new_state.is_valid():\n",
        "\t\t\tnew_state.parent = cur_state\n",
        "\t\t\tchildren.append(new_state)\n",
        "\t\tnew_state = State(cur_state.cannibalLeft, cur_state.missionaryLeft - 1, 'right',\n",
        "                                  cur_state.cannibalRight, cur_state.missionaryRight + 1)\n",
        "\t\t## One missionary crosses left to right.\n",
        "\t\tif new_state.is_valid():\n",
        "\t\t\tnew_state.parent = cur_state\n",
        "\t\t\tchildren.append(new_state)\n",
        "\t\tnew_state = State(cur_state.cannibalLeft - 1, cur_state.missionaryLeft, 'right',\n",
        "                                  cur_state.cannibalRight + 1, cur_state.missionaryRight)\n",
        "\t\t## One cannibal crosses left to right.\n",
        "\t\tif new_state.is_valid():\n",
        "\t\t\tnew_state.parent = cur_state\n",
        "\t\t\tchildren.append(new_state)\n",
        "\telse:\n",
        "\t\tnew_state = State(cur_state.cannibalLeft, cur_state.missionaryLeft + 2, 'left',\n",
        "                                  cur_state.cannibalRight, cur_state.missionaryRight - 2)\n",
        "\t\t## Two missionaries cross right to left.\n",
        "\t\tif new_state.is_valid():\n",
        "\t\t\tnew_state.parent = cur_state\n",
        "\t\t\tchildren.append(new_state)\n",
        "\t\tnew_state = State(cur_state.cannibalLeft + 2, cur_state.missionaryLeft, 'left',\n",
        "                                  cur_state.cannibalRight - 2, cur_state.missionaryRight)\n",
        "\t\t## Two cannibals cross right to left.\n",
        "\t\tif new_state.is_valid():\n",
        "\t\t\tnew_state.parent = cur_state\n",
        "\t\t\tchildren.append(new_state)\n",
        "\t\tnew_state = State(cur_state.cannibalLeft + 1, cur_state.missionaryLeft + 1, 'left',\n",
        "                                  cur_state.cannibalRight - 1, cur_state.missionaryRight - 1)\n",
        "\t\t## One missionary and one cannibal cross right to left.\n",
        "\t\tif new_state.is_valid():\n",
        "\t\t\tnew_state.parent = cur_state\n",
        "\t\t\tchildren.append(new_state)\n",
        "\t\tnew_state = State(cur_state.cannibalLeft, cur_state.missionaryLeft + 1, 'left',\n",
        "                                  cur_state.cannibalRight, cur_state.missionaryRight - 1)\n",
        "\t\t## One missionary crosses right to left.\n",
        "\t\tif new_state.is_valid():\n",
        "\t\t\tnew_state.parent = cur_state\n",
        "\t\t\tchildren.append(new_state)\n",
        "\t\tnew_state = State(cur_state.cannibalLeft + 1, cur_state.missionaryLeft, 'left',\n",
        "                                  cur_state.cannibalRight - 1, cur_state.missionaryRight)\n",
        "\t\t## One cannibal crosses right to left.\n",
        "\t\tif new_state.is_valid():\n",
        "\t\t\tnew_state.parent = cur_state\n",
        "\t\t\tchildren.append(new_state)\n",
        "\treturn children\n",
        "\n",
        "def breadth_first_search():\n",
        "\tinitial_state = State(3,3,'left',0,0)\n",
        "\tif initial_state.is_goal():\n",
        "\t\treturn initial_state\n",
        "\tfrontier = list()\n",
        "\texplored = set()\n",
        "\tfrontier.append(initial_state)\n",
        "\twhile frontier:\n",
        "\t\tstate = frontier.pop(0)\n",
        "\t\tif state.is_goal():\n",
        "\t\t\treturn state\n",
        "\t\texplored.add(state)\n",
        "\t\tchildren = successors(state)\n",
        "\t\tfor child in children:\n",
        "\t\t\tif (child not in explored) or (child not in frontier):\n",
        "\t\t\t\tfrontier.append(child)\n",
        "\treturn None\n",
        "\n",
        "def print_solution(solution):\n",
        "  path = []\n",
        "  path.append(solution)\n",
        "  parent = solution.parent\n",
        "  while parent:\n",
        "    path.append(parent)\n",
        "    parent = parent.parent\n",
        "\n",
        "  for t in range(len(path)):\n",
        "    state = path[len(path) - t - 1]\n",
        "    print (\"(\\t\" + str(state.cannibalLeft) + \", \\t \\t\" + str(state.missionaryLeft) \\\n",
        "                            + \", \\t\" + state.boat + \", \\t \\t\" + str(state.cannibalRight) + \", \\t \\t\" + \\\n",
        "                            str(state.missionaryRight) + \"\\t)\")\n",
        "\n",
        "def main():\n",
        "\tsolution = breadth_first_search()\n",
        "\tprint (\"Missionaries and Cannibals solution:\")\n",
        "\tprint (\"( cannibalLeft, missionaryLeft, boat, cannibalRight, missionaryRight )\")\n",
        "\tprint_solution(solution)\n",
        "\n",
        "# if called from the command line, call main()\n",
        "if __name__ == \"__main__\":\n",
        "    main()"
      ],
      "execution_count": 21,
      "outputs": [
        {
          "output_type": "stream",
          "text": [
            "Missionaries and Cannibals solution:\n",
            "( cannibalLeft, missionaryLeft, boat, cannibalRight, missionaryRight )\n",
            "(\t3, \t \t3, \tleft, \t \t0, \t \t0\t)\n",
            "(\t1, \t \t3, \tright, \t \t2, \t \t0\t)\n",
            "(\t2, \t \t3, \tleft, \t \t1, \t \t0\t)\n",
            "(\t0, \t \t3, \tright, \t \t3, \t \t0\t)\n",
            "(\t1, \t \t3, \tleft, \t \t2, \t \t0\t)\n",
            "(\t1, \t \t1, \tright, \t \t2, \t \t2\t)\n",
            "(\t2, \t \t2, \tleft, \t \t1, \t \t1\t)\n",
            "(\t2, \t \t0, \tright, \t \t1, \t \t3\t)\n",
            "(\t3, \t \t0, \tleft, \t \t0, \t \t3\t)\n",
            "(\t1, \t \t0, \tright, \t \t2, \t \t3\t)\n",
            "(\t1, \t \t1, \tleft, \t \t2, \t \t2\t)\n",
            "(\t0, \t \t0, \tright, \t \t3, \t \t3\t)\n"
          ],
          "name": "stdout"
        }
      ]
    },
    {
      "cell_type": "code",
      "metadata": {
        "id": "7Y9GrkWSS2xV"
      },
      "source": [
        ""
      ],
      "execution_count": null,
      "outputs": []
    }
  ]
}
