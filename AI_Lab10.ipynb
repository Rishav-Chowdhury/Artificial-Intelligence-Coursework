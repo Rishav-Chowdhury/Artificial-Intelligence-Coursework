{
  "nbformat": 4,
  "nbformat_minor": 0,
  "metadata": {
    "colab": {
      "name": "AI_Lab10.ipynb",
      "provenance": [],
      "authorship_tag": "ABX9TyPfEwnDmaFRtXo8cOXfQMQW",
      "include_colab_link": true
    },
    "kernelspec": {
      "name": "python3",
      "display_name": "Python 3"
    },
    "language_info": {
      "name": "python"
    }
  },
  "cells": [
    {
      "cell_type": "markdown",
      "metadata": {
        "id": "view-in-github",
        "colab_type": "text"
      },
      "source": [
        "<a href=\"https://colab.research.google.com/github/Rishav-Chowdhury/Artificial-Intelligence-Coursework/blob/main/AI_Lab10.ipynb\" target=\"_parent\"><img src=\"https://colab.research.google.com/assets/colab-badge.svg\" alt=\"Open In Colab\"/></a>"
      ]
    },
    {
      "cell_type": "code",
      "metadata": {
        "id": "BMqmWUAeG7VJ"
      },
      "source": [
        "class PREDICATE: \n",
        "\n",
        "  def __str__(self): \n",
        "    pass \n",
        "  def __repr__(self): \n",
        "    pass \n",
        "  def __eq__(self, other): \n",
        "    pass \n",
        "  def __hash__(self): \n",
        "    pass \n",
        "  def get_action(self, world_state): \n",
        "    pass "
      ],
      "execution_count": null,
      "outputs": []
    },
    {
      "cell_type": "code",
      "metadata": {
        "id": "Ab2djHc2IsII"
      },
      "source": [
        "class Operation: \n",
        "\n",
        "  def __str__(self): \n",
        "    pass \n",
        "  def __repr__(self): \n",
        "    pass \n",
        "  def __eq__(self, other): \n",
        "    pass \n",
        "  def precondition(self): \n",
        "    pass \n",
        "  def delete(self): \n",
        "    pass \n",
        "  def add(self): \n",
        "    pass "
      ],
      "execution_count": null,
      "outputs": []
    },
    {
      "cell_type": "code",
      "metadata": {
        "id": "QXAsjH-ZIsTV"
      },
      "source": [
        "class ON(PREDICATE): \n",
        "\n",
        "  def __init__(self, X, Y): \n",
        "    self.X = X \n",
        "    self.Y = Y \n",
        "  def __str__(self): \n",
        "    return \"ON({X},{Y})\".format(X=self.X,Y=self.Y) \n",
        "  def __repr__(self): \n",
        "    return self.__str__()\n",
        "  def __eq__(self, other): \n",
        "    return self.__dict__ == other.__dict__ and self.__class__ == other.__class__ \n",
        "  def __hash__(self): \n",
        "    return hash(str(self)) \n",
        "  def get_action(self, world_state): \n",
        "    return StackOp(self.X,self.Y)"
      ],
      "execution_count": null,
      "outputs": []
    },
    {
      "cell_type": "code",
      "metadata": {
        "id": "lCDN8fWEJFTO"
      },
      "source": [
        "class ONTABLE(PREDICATE): \n",
        "  \n",
        "  def __init__(self, X): \n",
        "    self.X = X \n",
        "  def __str__(self): \n",
        "    return \"ONTABLE({X})\".format(X=self.X) \n",
        "  def __repr__(self): \n",
        "    return self.__str__() \n",
        "  def __eq__(self, other): \n",
        "    return self.__dict__ == other.__dict__ and self.__class__ == other.__class__ \n",
        "  def __hash__(self): \n",
        "    return hash(str(self)) \n",
        "  def get_action(self, world_state): \n",
        "    return PutdownOp(self.X)"
      ],
      "execution_count": null,
      "outputs": []
    },
    {
      "cell_type": "code",
      "metadata": {
        "id": "ANmazywlJeaN"
      },
      "source": [
        "class CLEAR(PREDICATE): \n",
        "  def __init__(self, X): \n",
        "    self.X = X \n",
        "  def __str__(self): \n",
        "    return \"CLEAR({X})\".format(X=self.X) \n",
        "    self.X = X \n",
        "  def __repr__(self): \n",
        "    return self.__str__() \n",
        "  def __eq__(self, other): \n",
        "    return self.__dict__ == other.__dict__ and self.__class__ == other.__class__\n",
        "  def __hash__(self): \n",
        "    return hash(str(self)) \n",
        "  def get_action(self, world_state): \n",
        "    for predicate in world_state:  \n",
        "      if isinstance(predicate,ON) and predicate.Y==self.X: \n",
        "        return UnstackOp(predicate.X, predicate.Y) \n",
        "    return None"
      ],
      "execution_count": null,
      "outputs": []
    },
    {
      "cell_type": "code",
      "metadata": {
        "id": "iPkv_WsnJ62e"
      },
      "source": [
        "class HOLDING(PREDICATE):\n",
        "  def __init__(self, X):\n",
        "    self.X = X\n",
        "  def __str__(self):\n",
        "    return \"HOLDING({X})\".format(X=self.X)\n",
        "  def __repr__(self):\n",
        "    return self.__str__()\n",
        "\n",
        "  def __eq__(self, other) :\n",
        "    return self.__dict__ == other.__dict__ and self.__class__ == other.__class__\n",
        " \n",
        "  def __hash__(self):\n",
        "    return hash(str(self))\n",
        "    \n",
        "  def get_action(self, world_state):\n",
        "    X = self.X\n",
        "    if ONTABLE(X) in world_state:\n",
        "      return PickupOp(X)\n",
        "    else:\n",
        "      for predicate in world_state:\n",
        "        if isinstance(predicate,ON) and predicate.X==X:\n",
        "          return UnstackOp(X,predicate.Y)"
      ],
      "execution_count": null,
      "outputs": []
    },
    {
      "cell_type": "code",
      "metadata": {
        "id": "t6JzGTo6LL4F"
      },
      "source": [
        "class ARMEMPTY(PREDICATE):\n",
        "  def __init__(self):\n",
        "    pass\n",
        "  def __str__(self):\n",
        "    return \"ARMEMPTY\"\n",
        "  def __repr__(self):\n",
        "    return self.__str__()\n",
        "  def __eq__(self, other) :\n",
        "    return self.__dict__ == other.__dict__ and self.__class__ == other.__class__\n",
        "  def __hash__(self):\n",
        "    return hash(str(self))\n",
        "  def get_action(self, world_state=[]):\n",
        "    for predicate in world_state:\n",
        "      if isinstance(predicate,HOLDING):\n",
        "        return PutdownOp(predicate.X)\n",
        "    return None"
      ],
      "execution_count": null,
      "outputs": []
    },
    {
      "cell_type": "code",
      "metadata": {
        "id": "D9-YjX7JOSOK"
      },
      "source": [
        "class StackOp(Operation):\n",
        "  def __init__(self, X, Y):\n",
        "    self.X = X\n",
        "    self.Y = Y\n",
        "  def __str__(self):\n",
        "    return \"STACK({X},{Y})\".format(X=self.X,Y=self.Y)\n",
        "  def __repr__(self):\n",
        "    return self.__str__()\n",
        "  def __eq__(self, other) :\n",
        "    return self.__dict__ == other.__dict__ and self.__class__ == other.__class__\n",
        "  def precondition(self):\n",
        "    return [ CLEAR(self.Y) , HOLDING(self.X) ]\n",
        "  def delete(self):\n",
        "    return [ CLEAR(self.Y) , HOLDING(self.X) ]\n",
        "  def add(self):\n",
        "    return [ ARMEMPTY() , ON(self.X,self.Y) ]"
      ],
      "execution_count": null,
      "outputs": []
    },
    {
      "cell_type": "code",
      "metadata": {
        "id": "LVlrR2kXObq_"
      },
      "source": [
        "class UnstackOp(Operation):\n",
        "    def __init__(self, X, Y):\n",
        "        self.X = X\n",
        "        self.Y = Y\n",
        "    def __str__(self):\n",
        "        return \"UNSTACK({X},{Y})\".format(X=self.X,Y=self.Y)\n",
        "    def __repr__(self):\n",
        "        return self.__str__()\n",
        "\n",
        "    def __eq__(self, other) :\n",
        "        return self.__dict__ == other.__dict__ and self.__class__ == other.__class__\n",
        " \n",
        "    def precondition(self):\n",
        "        return [ ARMEMPTY() , ON(self.X,self.Y) , CLEAR(self.X) ]\n",
        "    def delete(self):\n",
        "        return [ ARMEMPTY() , ON(self.X,self.Y) ]\n",
        "    def add(self):\n",
        "        return [ CLEAR(self.Y) , HOLDING(self.X) ]"
      ],
      "execution_count": null,
      "outputs": []
    },
    {
      "cell_type": "code",
      "metadata": {
        "id": "OojmA2dPPpSY"
      },
      "source": [
        "class PickupOp(Operation):\n",
        "    def __init__(self, X):\n",
        "        self.X = X\n",
        "    def __str__(self):\n",
        "        return \"PICKUP({X})\".format(X=self.X)\n",
        "    def __repr__(self):\n",
        "        return self.__str__()\n",
        "\n",
        "    def __eq__(self, other) :\n",
        "        return self.__dict__ == other.__dict__ and self.__class__ == other.__class__\n",
        " \n",
        "    def precondition(self):\n",
        "        return [ CLEAR(self.X) , ONTABLE(self.X) , ARMEMPTY() ]\n",
        "    \n",
        "    def delete(self):\n",
        "        return [ ARMEMPTY() , ONTABLE(self.X) ]\n",
        "    def add(self):\n",
        "        return [ HOLDING(self.X) ]"
      ],
      "execution_count": null,
      "outputs": []
    },
    {
      "cell_type": "code",
      "metadata": {
        "id": "-Wx1fvOGPsmb"
      },
      "source": [
        "class PutdownOp(Operation):\n",
        "    def __init__(self, X):\n",
        "        self.X = X\n",
        "    def __str__(self):\n",
        "        return \"PUTDOWN({X})\".format(X=self.X)\n",
        "    def __repr__(self):\n",
        "        return self.__str__()\n",
        "\n",
        "    def __eq__(self, other) :\n",
        "        return self.__dict__ == other.__dict__ and self.__class__ == other.__class__\n",
        " \n",
        "    def precondition(self):\n",
        "        return [ HOLDING(self.X) ]\n",
        "    def delete(self):\n",
        "        return [ HOLDING(self.X) ]\n",
        "    def add(self):\n",
        "        return [ ARMEMPTY() , ONTABLE(self.X) ]\n",
        "    \n",
        "def isPredicate(obj):\n",
        "  predicates = [ON, ONTABLE, CLEAR, HOLDING, ARMEMPTY]\n",
        "  for predicate in predicates:\n",
        "    if isinstance(obj,predicate):\n",
        "      return True\n",
        "  return False\n",
        "\n",
        "def isOperation(obj):\n",
        "  operations = [StackOp, UnstackOp, PickupOp, PutdownOp]\n",
        "  for operation in operations:\n",
        "    if isinstance(obj,operation):\n",
        "      return True\n",
        "  return False\n",
        "\n",
        "def arm_status(world_state):\n",
        "  for predicate in world_state:\n",
        "    if isinstance(predicate, HOLDING):\n",
        "      return predicate\n",
        "  return ARMEMPTY()"
      ],
      "execution_count": null,
      "outputs": []
    },
    {
      "cell_type": "code",
      "metadata": {
        "id": "IRjxtixdXZG7"
      },
      "source": [
        "class GoalStackPlanner:\n",
        "\n",
        "  def __init__(self, initial_state, goal_state):\n",
        "    self.initial_state = initial_state\n",
        "    self.goal_state = goal_state\n",
        "\n",
        "  def get_steps(self):\n",
        "    steps = []\n",
        "    stack = []\n",
        "    world_state = self.initial_state.copy()\n",
        "    stack.append(self.goal_state.copy())\n",
        "    while len(stack)!=0:\n",
        "      stack_top = stack[-1]\n",
        "      if type(stack_top) is list:\n",
        "        compound_goal = stack.pop()\n",
        "        for goal in compound_goal:\n",
        "          if goal not in world_state:\n",
        "            stack.append(goal)\n",
        "      elif isOperation(stack_top):\n",
        "        operation = stack[-1]\n",
        "        all_preconditions_satisfied = True\n",
        "        for predicate in operation.delete():\n",
        "          if predicate not in world_state:\n",
        "            all_preconditions_satisfied = False\n",
        "            stack.append(predicate)\n",
        "        if all_preconditions_satisfied:\n",
        "          stack.pop()\n",
        "          steps.append(operation)\n",
        "          for predicate in operation.delete():\n",
        "            world_state.remove(predicate)\n",
        "          for predicate in operation.add():\n",
        "            world_state.append(predicate)\n",
        "      elif stack_top in world_state:\n",
        "        stack.pop()\n",
        "      else:\n",
        "        unsatisfied_goal = stack.pop()\n",
        "        action = unsatisfied_goal.get_action(world_state)\n",
        "        stack.append(action)\n",
        "        for predicate in action.precondition():\n",
        "          if predicate not in world_state:\n",
        "            stack.append(predicate)\n",
        "\n",
        "    return steps"
      ],
      "execution_count": null,
      "outputs": []
    },
    {
      "cell_type": "code",
      "metadata": {
        "colab": {
          "base_uri": "https://localhost:8080/"
        },
        "id": "HqLzVNyuXhDF",
        "outputId": "de034408-c212-4207-86d8-bec6ce3eb5ba"
      },
      "source": [
        "if __name__ == '__main__':\n",
        "  initial_state = [\n",
        "    ON('B','A'),\n",
        "    ONTABLE('A'),ONTABLE('C'),ONTABLE('D'),\n",
        "    CLEAR('B'),CLEAR('C'),CLEAR('D'),\n",
        "    ARMEMPTY()\n",
        "  ]\n",
        "\n",
        "  goal_state = [  \n",
        "    ON('B','D'),ON('C','A'),\n",
        "    ONTABLE('D'),ONTABLE('A'),\n",
        "    CLEAR('B'),CLEAR('C'),\n",
        "    ARMEMPTY()\n",
        "  ]\n",
        "\n",
        "  goal_stack = GoalStackPlanner(initial_state=initial_state, goal_state=goal_state)\n",
        "  steps = goal_stack.get_steps()\n",
        "  print(steps)"
      ],
      "execution_count": null,
      "outputs": [
        {
          "output_type": "stream",
          "text": [
            "[PICKUP(C), PUTDOWN(C), UNSTACK(B,A), PUTDOWN(B), PICKUP(C), STACK(C,A), PICKUP(B), STACK(B,D)]\n"
          ],
          "name": "stdout"
        }
      ]
    }
  ]
}