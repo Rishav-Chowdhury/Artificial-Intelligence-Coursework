{
  "nbformat": 4,
  "nbformat_minor": 0,
  "metadata": {
    "kernelspec": {
      "display_name": "Python 3",
      "language": "python",
      "name": "python3"
    },
    "language_info": {
      "codemirror_mode": {
        "name": "ipython",
        "version": 3
      },
      "file_extension": ".py",
      "mimetype": "text/x-python",
      "name": "python",
      "nbconvert_exporter": "python",
      "pygments_lexer": "ipython3",
      "version": "3.7.4"
    },
    "colab": {
      "name": "AI Lab 5.ipynb",
      "provenance": [],
      "include_colab_link": true
    }
  },
  "cells": [
    {
      "cell_type": "markdown",
      "metadata": {
        "id": "view-in-github",
        "colab_type": "text"
      },
      "source": [
        "<a href=\"https://colab.research.google.com/github/Rishav-Chowdhury/Artificial-Intelligence-Coursework/blob/main/AI_Lab%205.ipynb\" target=\"_parent\"><img src=\"https://colab.research.google.com/assets/colab-badge.svg\" alt=\"Open In Colab\"/></a>"
      ]
    },
    {
      "cell_type": "code",
      "metadata": {
        "colab": {
          "base_uri": "https://localhost:8080/"
        },
        "id": "FZiaMZZydvb2",
        "outputId": "009db045-1ac8-4bc1-8151-5d3036348bca"
      },
      "source": [
        "from queue import PriorityQueue\n",
        "v = 14\n",
        "graph = [[] for i in range(v)]\n",
        " \n",
        "def best_first_search(source, target, n):\n",
        "    visited = [0] * n\n",
        "    visited[0] = True\n",
        "    pq = PriorityQueue()\n",
        "    pq.put((0, source))\n",
        "    while pq.empty() == False:\n",
        "        u = pq.get()[1]\n",
        "        # Displaying the path having lowest cost\n",
        "        print(u, end=\" \")\n",
        "        if u == target:\n",
        "            break\n",
        " \n",
        "        for v, c in graph[u]:\n",
        "            if visited[v] == False:\n",
        "                visited[v] = True\n",
        "                pq.put((c, v))\n",
        "    print()\n",
        "    \n",
        "def addedge(x, y, cost):\n",
        "    graph[x].append((y, cost))\n",
        "    graph[y].append((x, cost))\n",
        "    \n",
        "addedge(0, 1, 3)\n",
        "addedge(0, 2, 6)\n",
        "addedge(0, 3, 5)\n",
        "addedge(1, 4, 9)\n",
        "addedge(1, 5, 8)\n",
        "addedge(2, 6, 12)\n",
        "addedge(2, 7, 14)\n",
        "addedge(3, 8, 7)\n",
        "addedge(8, 9, 5)\n",
        "addedge(8, 10, 6)\n",
        "addedge(9, 11, 1)\n",
        "addedge(9, 12, 10)\n",
        "addedge(9, 13, 2)\n",
        " \n",
        "source = 0\n",
        "target = 9\n",
        "best_first_search(source, target, v)"
      ],
      "execution_count": 1,
      "outputs": [
        {
          "output_type": "stream",
          "text": [
            "0 1 3 2 8 9 \n"
          ],
          "name": "stdout"
        }
      ]
    },
    {
      "cell_type": "code",
      "metadata": {
        "colab": {
          "base_uri": "https://localhost:8080/"
        },
        "id": "qOVQteCgdvb6",
        "outputId": "64f51136-3101-470a-fe69-187f99bf01b0"
      },
      "source": [
        "from queue import PriorityQueue\n",
        "from collections import defaultdict\n",
        "\n",
        "def h(point1, point2):\n",
        "    x, y = point1\n",
        "    a, b = point2\n",
        "    return abs(x-a)+abs(y-b)\n",
        "\n",
        "pq = PriorityQueue()\n",
        "g = [[0 for i in range(10)] for j in range(10)]\n",
        "start = (0, 0)\n",
        "end = (9, 5)\n",
        "g[end[0]][end[1]] = 2\n",
        "g[0][0] = 1\n",
        "\n",
        "for i in range(2, 10):\n",
        "    g[4][i] = 3\n",
        "for i in range(0, 9):\n",
        "    g[7][i] = 3\n",
        "\n",
        "g_score = defaultdict(lambda: float(\"inf\"))\n",
        "g_score[start] = 0\n",
        "f_score = defaultdict(lambda: float(\"inf\"))\n",
        "f_score[start] = g_score[start] + h(start, end)\n",
        "pq.put((0, start))\n",
        "pq_hash = set()\n",
        "pq_hash.add(start)\n",
        "came_from = dict()\n",
        "f = 0\n",
        "\n",
        "while not pq.empty():\n",
        "    current = pq.get()\n",
        "    if g[current[1][0]][current[1][1]]==2:\n",
        "        print(\"Reached the last\\n\")\n",
        "        f = 1\n",
        "        break\n",
        "\n",
        "    x = [0, 0, 1, -1]\n",
        "    y = [1, -1, 0, 0]\n",
        "    pq_hash.remove(current[1])\n",
        "    for r, c in zip(x, y):\n",
        "        if 0<=current[1][0]+r<=9 and 0<=current[1][1]+c<=9:\n",
        "\n",
        "            temp_g_score = current[0] + 1\n",
        "            if temp_g_score < g_score[(r+current[1][0], c+current[1][1])]:\n",
        "                g_score[(r+current[1][0], c+current[1][1])] = temp_g_score\n",
        "                came_from[(r+current[1][0], c+current[1][1])] = current[1]\n",
        "                f_score[(r+current[1][0], c+current[1][1])] = g_score[(r+current[1][0], c+current[1][1])] + h((r+current[1][0], c+current[1][1]), end)\n",
        "                if ((r+current[1][0], c+current[1][1]) not in pq_hash) and g[r+current[1][0]][c+current[1][1]] != 3:\n",
        "                    pq.put((f_score[(r+current[1][0], c+current[1][1])], (r+current[1][0], c+current[1][1])))\n",
        "                    pq_hash.add((r+current[1][0], c+current[1][1]))\n",
        "\n",
        "if not f:\n",
        "    print(\"failed\")\n",
        "else:\n",
        "    print(\"passed\")\n",
        "\n",
        "    while True:\n",
        "        x, y = came_from[end]\n",
        "        if (x, y) == start:\n",
        "            break\n",
        "        g[x][y] = 5\n",
        "        end = (x, y)\n",
        "\n",
        "    for i in g:\n",
        "        print(i)"
      ],
      "execution_count": 3,
      "outputs": [
        {
          "output_type": "stream",
          "text": [
            "Reached the last\n",
            "\n",
            "passed\n",
            "[1, 5, 0, 0, 0, 0, 0, 0, 0, 0]\n",
            "[0, 5, 0, 0, 0, 0, 0, 0, 0, 0]\n",
            "[0, 5, 0, 0, 0, 0, 0, 0, 0, 0]\n",
            "[0, 5, 0, 0, 0, 0, 0, 0, 0, 0]\n",
            "[0, 5, 3, 3, 3, 3, 3, 3, 3, 3]\n",
            "[0, 5, 5, 5, 5, 5, 0, 0, 0, 0]\n",
            "[0, 0, 0, 0, 0, 5, 5, 5, 5, 5]\n",
            "[3, 3, 3, 3, 3, 3, 3, 3, 3, 5]\n",
            "[0, 0, 0, 0, 0, 5, 5, 5, 5, 5]\n",
            "[0, 0, 0, 0, 0, 2, 0, 0, 0, 0]\n"
          ],
          "name": "stdout"
        }
      ]
    },
    {
      "cell_type": "code",
      "metadata": {
        "id": "pqVvqFY8dvb8"
      },
      "source": [
        ""
      ],
      "execution_count": null,
      "outputs": []
    }
  ]
}