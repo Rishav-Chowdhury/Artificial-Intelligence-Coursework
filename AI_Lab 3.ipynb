{
  "nbformat": 4,
  "nbformat_minor": 0,
  "metadata": {
    "colab": {
      "name": "AI_Lab 3.ipynb",
      "provenance": [],
      "authorship_tag": "ABX9TyNmg5XfJYVSzCu2JGiyh9fN",
      "include_colab_link": true
    },
    "kernelspec": {
      "name": "python3",
      "display_name": "Python 3"
    },
    "language_info": {
      "name": "python"
    }
  },
  "cells": [
    {
      "cell_type": "markdown",
      "metadata": {
        "id": "view-in-github",
        "colab_type": "text"
      },
      "source": [
        "<a href=\"https://colab.research.google.com/github/Rishav-Chowdhury/Artificial-Intelligence-Coursework/blob/main/AI_Lab%203.ipynb\" target=\"_parent\"><img src=\"https://colab.research.google.com/assets/colab-badge.svg\" alt=\"Open In Colab\"/></a>"
      ]
    },
    {
      "cell_type": "code",
      "metadata": {
        "colab": {
          "base_uri": "https://localhost:8080/"
        },
        "id": "3Vh0pjY96D1A",
        "outputId": "2e647498-4052-445f-bacb-8b3db65dcf7e"
      },
      "source": [
        "import itertools\n",
        "\n",
        "def get_value(word, substitution):\n",
        "    s = 0\n",
        "    factor = 1\n",
        "    for letter in reversed(word):\n",
        "        s += factor * substitution[letter]\n",
        "        factor *= 10\n",
        "    return s\n",
        "\n",
        "def solve2(equation):\n",
        "    # split equation in left and right\n",
        "    left, right = equation.lower().replace(' ', '').split('=')\n",
        "    # split words in left part\n",
        "    left = left.split('+')\n",
        "    # create list of used letters\n",
        "    letters = set(right)\n",
        "    for word in left:\n",
        "        for letter in word:\n",
        "            letters.add(letter)\n",
        "    letters = list(letters)\n",
        "\n",
        "    digits = range(10)\n",
        "    for perm in itertools.permutations(digits, len(letters)):\n",
        "        sol = dict(zip(letters, perm))\n",
        "\n",
        "        if sum(get_value(word, sol) for word in left) == get_value(right, sol):\n",
        "            print(' + '.join(str(get_value(word, sol)) for word in left) + \" = {} (mapping: {})\".format(get_value(right, sol), sol))\n",
        "\n",
        "print(\"POINT + ZERO = ENERGY\")\n",
        "solve2('POINT + ZERO = ENERGY')\n",
        "print('TWO + TWO = FOUR')\n",
        "solve2('TWO + TWO = FOUR')"
      ],
      "execution_count": 1,
      "outputs": [
        {
          "output_type": "stream",
          "text": [
            "POINT + ZERO = ENERGY\n",
            "71582 + 9061 = 80643 (mapping: {'t': 2, 'y': 3, 'i': 5, 'o': 1, 'p': 7, 'r': 6, 'n': 8, 'g': 4, 'e': 0, 'z': 9})\n",
            "51762 + 9081 = 60843 (mapping: {'t': 2, 'y': 3, 'i': 7, 'o': 1, 'p': 5, 'r': 8, 'n': 6, 'g': 4, 'e': 0, 'z': 9})\n",
            "98504 + 3168 = 101672 (mapping: {'t': 4, 'y': 2, 'i': 5, 'o': 8, 'p': 9, 'r': 6, 'n': 0, 'g': 7, 'e': 1, 'z': 3})\n",
            "71385 + 9041 = 80426 (mapping: {'t': 5, 'y': 6, 'i': 3, 'o': 1, 'p': 7, 'r': 4, 'n': 8, 'g': 2, 'e': 0, 'z': 9})\n",
            "31745 + 9081 = 40826 (mapping: {'t': 5, 'y': 6, 'i': 7, 'o': 1, 'p': 3, 'r': 8, 'n': 4, 'g': 2, 'e': 0, 'z': 9})\n",
            "74285 + 6034 = 80319 (mapping: {'t': 5, 'y': 9, 'i': 2, 'o': 4, 'p': 7, 'r': 3, 'n': 8, 'g': 1, 'e': 0, 'z': 6})\n",
            "24735 + 6084 = 30819 (mapping: {'t': 5, 'y': 9, 'i': 7, 'o': 4, 'p': 2, 'r': 8, 'n': 3, 'g': 1, 'e': 0, 'z': 6})\n",
            "62479 + 8052 = 70531 (mapping: {'t': 9, 'y': 1, 'i': 4, 'o': 2, 'p': 6, 'r': 5, 'n': 7, 'g': 3, 'e': 0, 'z': 8})\n",
            "42659 + 8072 = 50731 (mapping: {'t': 9, 'y': 1, 'i': 6, 'o': 2, 'p': 4, 'r': 7, 'n': 5, 'g': 3, 'e': 0, 'z': 8})\n",
            "58369 + 2048 = 60417 (mapping: {'t': 9, 'y': 7, 'i': 3, 'o': 8, 'p': 5, 'r': 4, 'n': 6, 'g': 1, 'e': 0, 'z': 2})\n",
            "38549 + 2068 = 40617 (mapping: {'t': 9, 'y': 7, 'i': 5, 'o': 8, 'p': 3, 'r': 6, 'n': 4, 'g': 1, 'e': 0, 'z': 2})\n",
            "TWO + TWO = FOUR\n",
            "132 + 132 = 264 (mapping: {'t': 1, 'o': 2, 'r': 4, 'f': 0, 'u': 6, 'w': 3})\n",
            "173 + 173 = 346 (mapping: {'t': 1, 'o': 3, 'r': 6, 'f': 0, 'u': 4, 'w': 7})\n",
            "193 + 193 = 386 (mapping: {'t': 1, 'o': 3, 'r': 6, 'f': 0, 'u': 8, 'w': 9})\n",
            "234 + 234 = 468 (mapping: {'t': 2, 'o': 4, 'r': 8, 'f': 0, 'u': 6, 'w': 3})\n",
            "346 + 346 = 692 (mapping: {'t': 3, 'o': 6, 'r': 2, 'f': 0, 'u': 9, 'w': 4})\n",
            "357 + 357 = 714 (mapping: {'t': 3, 'o': 7, 'r': 4, 'f': 0, 'u': 1, 'w': 5})\n",
            "418 + 418 = 836 (mapping: {'t': 4, 'o': 8, 'r': 6, 'f': 0, 'u': 3, 'w': 1})\n",
            "428 + 428 = 856 (mapping: {'t': 4, 'o': 8, 'r': 6, 'f': 0, 'u': 5, 'w': 2})\n",
            "438 + 438 = 876 (mapping: {'t': 4, 'o': 8, 'r': 6, 'f': 0, 'u': 7, 'w': 3})\n",
            "459 + 459 = 918 (mapping: {'t': 4, 'o': 9, 'r': 8, 'f': 0, 'u': 1, 'w': 5})\n",
            "469 + 469 = 938 (mapping: {'t': 4, 'o': 9, 'r': 8, 'f': 0, 'u': 3, 'w': 6})\n",
            "479 + 479 = 958 (mapping: {'t': 4, 'o': 9, 'r': 8, 'f': 0, 'u': 5, 'w': 7})\n",
            "734 + 734 = 1468 (mapping: {'t': 7, 'o': 4, 'r': 8, 'f': 1, 'u': 6, 'w': 3})\n",
            "765 + 765 = 1530 (mapping: {'t': 7, 'o': 5, 'r': 0, 'f': 1, 'u': 3, 'w': 6})\n",
            "836 + 836 = 1672 (mapping: {'t': 8, 'o': 6, 'r': 2, 'f': 1, 'u': 7, 'w': 3})\n",
            "846 + 846 = 1692 (mapping: {'t': 8, 'o': 6, 'r': 2, 'f': 1, 'u': 9, 'w': 4})\n",
            "867 + 867 = 1734 (mapping: {'t': 8, 'o': 7, 'r': 4, 'f': 1, 'u': 3, 'w': 6})\n",
            "928 + 928 = 1856 (mapping: {'t': 9, 'o': 8, 'r': 6, 'f': 1, 'u': 5, 'w': 2})\n",
            "938 + 938 = 1876 (mapping: {'t': 9, 'o': 8, 'r': 6, 'f': 1, 'u': 7, 'w': 3})\n"
          ],
          "name": "stdout"
        }
      ]
    }
  ]
}