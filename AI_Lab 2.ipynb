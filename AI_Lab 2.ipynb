{
  "nbformat": 4,
  "nbformat_minor": 0,
  "metadata": {
    "kernelspec": {
      "display_name": "Python 3",
      "language": "python",
      "name": "python3"
    },
    "language_info": {
      "codemirror_mode": {
        "name": "ipython",
        "version": 3
      },
      "file_extension": ".py",
      "mimetype": "text/x-python",
      "name": "python",
      "nbconvert_exporter": "python",
      "pygments_lexer": "ipython3",
      "version": "3.7.4"
    },
    "colab": {
      "name": "AI_Lab2.ipynb",
      "provenance": [],
      "include_colab_link": true
    }
  },
  "cells": [
    {
      "cell_type": "markdown",
      "metadata": {
        "id": "view-in-github",
        "colab_type": "text"
      },
      "source": [
        "<a href=\"https://colab.research.google.com/github/Rishav-Chowdhury/Artificial-Intelligence-Coursework/blob/main/AI_Lab%202.ipynb\" target=\"_parent\"><img src=\"https://colab.research.google.com/assets/colab-badge.svg\" alt=\"Open In Colab\"/></a>"
      ]
    },
    {
      "cell_type": "code",
      "metadata": {
        "colab": {
          "base_uri": "https://localhost:8080/"
        },
        "id": "eMuQhttp5vDa",
        "outputId": "c5229ff2-37ae-4295-95cd-7f90c92bb1ba"
      },
      "source": [
        "class Graph:\n",
        "    def __init__(self, edges, n):\n",
        "        self.adj=[[] for _ in range(n)]\n",
        "        for (src, dest) in edges:# Adding edges to the undirected graph\n",
        "            self.adj[src].append(dest)\n",
        "            self.adj[dest].append(src)\n",
        "\n",
        "def color_graph(graph):# Assign color to vertices\n",
        "    result= {}# Stores the color assigned to each vertex\n",
        "\n",
        "    for u in range(n):# loop through each vertex\n",
        "        assigned = set([result.get(i) for i in graph.adj[u] if i in result])# Stores the color of u's adjacent vertices\n",
        "        color= 1\n",
        "        for c in assigned: # check for available color to assign it to vertex\n",
        "            if color != c: # if the adjacent color is not the same, break out of the loop and set the color. \n",
        "                break\n",
        "            color = color+1\n",
        "        result[u] = color\n",
        "    for v in range(n):\n",
        "        print('Color assigned to vertex', v, 'is', colors[result[v]])\n",
        "\n",
        "\n",
        "if __name__ == \"__main__\":\n",
        "    colors = ['', 'BLUE', 'GREEN', 'RED', 'YELLOW', 'ORANGE', \n",
        "             'PINK', 'BLACK', 'BROWN', 'WHITE', 'PURPLE', 'VIOLET']\n",
        "\n",
        "    edges = [(0,2), (0,3), (0,4), (1,2), (1,3), (1,4), (2,3)]\n",
        "    n = 5\n",
        "    graph = Graph(edges, n)\n",
        "    color_graph(graph)"
      ],
      "execution_count": 5,
      "outputs": [
        {
          "output_type": "stream",
          "text": [
            "Color assigned to vertex 0 is BLUE\n",
            "Color assigned to vertex 1 is BLUE\n",
            "Color assigned to vertex 2 is GREEN\n",
            "Color assigned to vertex 3 is RED\n",
            "Color assigned to vertex 4 is GREEN\n"
          ],
          "name": "stdout"
        }
      ]
    },
    {
      "cell_type": "code",
      "metadata": {
        "id": "ihI86jL54PTm"
      },
      "source": [
        "from __future__ import division\n",
        "from itertools import permutations, combinations\n",
        "import copy as cp\n",
        "import matplotlib.pyplot as plt\n",
        "import numpy as np"
      ],
      "execution_count": 1,
      "outputs": []
    },
    {
      "cell_type": "code",
      "metadata": {
        "id": "7y8zSnYj4PTu",
        "colab": {
          "base_uri": "https://localhost:8080/"
        },
        "outputId": "fc3359d1-8fed-4acd-dfde-2fb37d2bc6c3"
      },
      "source": [
        "#Determine the size of the board\n",
        "\n",
        "N = int(input(\"How big is your chess board?\"))\n",
        "x = range(1, N + 1)\n",
        "\n",
        "\n",
        "master_list = []\n",
        "for item in permutations(range(1, N + 1)):\n",
        "    y = item\n",
        "    new_list = []\n",
        "    for x_value, y_value in zip(x, y):\n",
        "        new_list.append((x_value, y_value))\n",
        "    master_list.append(new_list)\n",
        "\n",
        "\n",
        "def IsDiagonal(point1, point2):\n",
        "    x1 = point1[0]\n",
        "    y1 = point1[1]\n",
        "    x2 = point2[0]\n",
        "    y2 = point2[1]\n",
        "    gradient = (y2 - y1) / (x2 - x1)\n",
        "    if gradient == -1 or gradient == 1:\n",
        "        return(True)\n",
        "    else:\n",
        "        return(False)\n",
        "\n",
        "\n",
        "solutions = []\n",
        "for possible_solution in master_list:\n",
        "    diagonal_clash_list = []\n",
        "    for piece1, piece2 in combinations(possible_solution, 2):\n",
        "        diagonal_clash_list.append(IsDiagonal(piece1, piece2))\n",
        "\n",
        "    if True not in diagonal_clash_list:\n",
        "        solutions.append(possible_solution)\n",
        "\n",
        "solutions = [set(solution) for solution in solutions]\n",
        "\n",
        "solutions"
      ],
      "execution_count": 2,
      "outputs": [
        {
          "output_type": "stream",
          "text": [
            "How big is your chess board?8\n"
          ],
          "name": "stdout"
        },
        {
          "output_type": "execute_result",
          "data": {
            "text/plain": [
              "[{(1, 1), (2, 5), (3, 8), (4, 6), (5, 3), (6, 7), (7, 2), (8, 4)},\n",
              " {(1, 1), (2, 6), (3, 8), (4, 3), (5, 7), (6, 4), (7, 2), (8, 5)},\n",
              " {(1, 1), (2, 7), (3, 4), (4, 6), (5, 8), (6, 2), (7, 5), (8, 3)},\n",
              " {(1, 1), (2, 7), (3, 5), (4, 8), (5, 2), (6, 4), (7, 6), (8, 3)},\n",
              " {(1, 2), (2, 4), (3, 6), (4, 8), (5, 3), (6, 1), (7, 7), (8, 5)},\n",
              " {(1, 2), (2, 5), (3, 7), (4, 1), (5, 3), (6, 8), (7, 6), (8, 4)},\n",
              " {(1, 2), (2, 5), (3, 7), (4, 4), (5, 1), (6, 8), (7, 6), (8, 3)},\n",
              " {(1, 2), (2, 6), (3, 1), (4, 7), (5, 4), (6, 8), (7, 3), (8, 5)},\n",
              " {(1, 2), (2, 6), (3, 8), (4, 3), (5, 1), (6, 4), (7, 7), (8, 5)},\n",
              " {(1, 2), (2, 7), (3, 3), (4, 6), (5, 8), (6, 5), (7, 1), (8, 4)},\n",
              " {(1, 2), (2, 7), (3, 5), (4, 8), (5, 1), (6, 4), (7, 6), (8, 3)},\n",
              " {(1, 2), (2, 8), (3, 6), (4, 1), (5, 3), (6, 5), (7, 7), (8, 4)},\n",
              " {(1, 3), (2, 1), (3, 7), (4, 5), (5, 8), (6, 2), (7, 4), (8, 6)},\n",
              " {(1, 3), (2, 5), (3, 2), (4, 8), (5, 1), (6, 7), (7, 4), (8, 6)},\n",
              " {(1, 3), (2, 5), (3, 2), (4, 8), (5, 6), (6, 4), (7, 7), (8, 1)},\n",
              " {(1, 3), (2, 5), (3, 7), (4, 1), (5, 4), (6, 2), (7, 8), (8, 6)},\n",
              " {(1, 3), (2, 5), (3, 8), (4, 4), (5, 1), (6, 7), (7, 2), (8, 6)},\n",
              " {(1, 3), (2, 6), (3, 2), (4, 5), (5, 8), (6, 1), (7, 7), (8, 4)},\n",
              " {(1, 3), (2, 6), (3, 2), (4, 7), (5, 1), (6, 4), (7, 8), (8, 5)},\n",
              " {(1, 3), (2, 6), (3, 2), (4, 7), (5, 5), (6, 1), (7, 8), (8, 4)},\n",
              " {(1, 3), (2, 6), (3, 4), (4, 1), (5, 8), (6, 5), (7, 7), (8, 2)},\n",
              " {(1, 3), (2, 6), (3, 4), (4, 2), (5, 8), (6, 5), (7, 7), (8, 1)},\n",
              " {(1, 3), (2, 6), (3, 8), (4, 1), (5, 4), (6, 7), (7, 5), (8, 2)},\n",
              " {(1, 3), (2, 6), (3, 8), (4, 1), (5, 5), (6, 7), (7, 2), (8, 4)},\n",
              " {(1, 3), (2, 6), (3, 8), (4, 2), (5, 4), (6, 1), (7, 7), (8, 5)},\n",
              " {(1, 3), (2, 7), (3, 2), (4, 8), (5, 5), (6, 1), (7, 4), (8, 6)},\n",
              " {(1, 3), (2, 7), (3, 2), (4, 8), (5, 6), (6, 4), (7, 1), (8, 5)},\n",
              " {(1, 3), (2, 8), (3, 4), (4, 7), (5, 1), (6, 6), (7, 2), (8, 5)},\n",
              " {(1, 4), (2, 1), (3, 5), (4, 8), (5, 2), (6, 7), (7, 3), (8, 6)},\n",
              " {(1, 4), (2, 1), (3, 5), (4, 8), (5, 6), (6, 3), (7, 7), (8, 2)},\n",
              " {(1, 4), (2, 2), (3, 5), (4, 8), (5, 6), (6, 1), (7, 3), (8, 7)},\n",
              " {(1, 4), (2, 2), (3, 7), (4, 3), (5, 6), (6, 8), (7, 1), (8, 5)},\n",
              " {(1, 4), (2, 2), (3, 7), (4, 3), (5, 6), (6, 8), (7, 5), (8, 1)},\n",
              " {(1, 4), (2, 2), (3, 7), (4, 5), (5, 1), (6, 8), (7, 6), (8, 3)},\n",
              " {(1, 4), (2, 2), (3, 8), (4, 5), (5, 7), (6, 1), (7, 3), (8, 6)},\n",
              " {(1, 4), (2, 2), (3, 8), (4, 6), (5, 1), (6, 3), (7, 5), (8, 7)},\n",
              " {(1, 4), (2, 6), (3, 1), (4, 5), (5, 2), (6, 8), (7, 3), (8, 7)},\n",
              " {(1, 4), (2, 6), (3, 8), (4, 2), (5, 7), (6, 1), (7, 3), (8, 5)},\n",
              " {(1, 4), (2, 6), (3, 8), (4, 3), (5, 1), (6, 7), (7, 5), (8, 2)},\n",
              " {(1, 4), (2, 7), (3, 1), (4, 8), (5, 5), (6, 2), (7, 6), (8, 3)},\n",
              " {(1, 4), (2, 7), (3, 3), (4, 8), (5, 2), (6, 5), (7, 1), (8, 6)},\n",
              " {(1, 4), (2, 7), (3, 5), (4, 2), (5, 6), (6, 1), (7, 3), (8, 8)},\n",
              " {(1, 4), (2, 7), (3, 5), (4, 3), (5, 1), (6, 6), (7, 8), (8, 2)},\n",
              " {(1, 4), (2, 8), (3, 1), (4, 3), (5, 6), (6, 2), (7, 7), (8, 5)},\n",
              " {(1, 4), (2, 8), (3, 1), (4, 5), (5, 7), (6, 2), (7, 6), (8, 3)},\n",
              " {(1, 4), (2, 8), (3, 5), (4, 3), (5, 1), (6, 7), (7, 2), (8, 6)},\n",
              " {(1, 5), (2, 1), (3, 4), (4, 6), (5, 8), (6, 2), (7, 7), (8, 3)},\n",
              " {(1, 5), (2, 1), (3, 8), (4, 4), (5, 2), (6, 7), (7, 3), (8, 6)},\n",
              " {(1, 5), (2, 1), (3, 8), (4, 6), (5, 3), (6, 7), (7, 2), (8, 4)},\n",
              " {(1, 5), (2, 2), (3, 4), (4, 6), (5, 8), (6, 3), (7, 1), (8, 7)},\n",
              " {(1, 5), (2, 2), (3, 4), (4, 7), (5, 3), (6, 8), (7, 6), (8, 1)},\n",
              " {(1, 5), (2, 2), (3, 6), (4, 1), (5, 7), (6, 4), (7, 8), (8, 3)},\n",
              " {(1, 5), (2, 2), (3, 8), (4, 1), (5, 4), (6, 7), (7, 3), (8, 6)},\n",
              " {(1, 5), (2, 3), (3, 1), (4, 6), (5, 8), (6, 2), (7, 4), (8, 7)},\n",
              " {(1, 5), (2, 3), (3, 1), (4, 7), (5, 2), (6, 8), (7, 6), (8, 4)},\n",
              " {(1, 5), (2, 3), (3, 8), (4, 4), (5, 7), (6, 1), (7, 6), (8, 2)},\n",
              " {(1, 5), (2, 7), (3, 1), (4, 3), (5, 8), (6, 6), (7, 4), (8, 2)},\n",
              " {(1, 5), (2, 7), (3, 1), (4, 4), (5, 2), (6, 8), (7, 6), (8, 3)},\n",
              " {(1, 5), (2, 7), (3, 2), (4, 4), (5, 8), (6, 1), (7, 3), (8, 6)},\n",
              " {(1, 5), (2, 7), (3, 2), (4, 6), (5, 3), (6, 1), (7, 4), (8, 8)},\n",
              " {(1, 5), (2, 7), (3, 2), (4, 6), (5, 3), (6, 1), (7, 8), (8, 4)},\n",
              " {(1, 5), (2, 7), (3, 4), (4, 1), (5, 3), (6, 8), (7, 6), (8, 2)},\n",
              " {(1, 5), (2, 8), (3, 4), (4, 1), (5, 3), (6, 6), (7, 2), (8, 7)},\n",
              " {(1, 5), (2, 8), (3, 4), (4, 1), (5, 7), (6, 2), (7, 6), (8, 3)},\n",
              " {(1, 6), (2, 1), (3, 5), (4, 2), (5, 8), (6, 3), (7, 7), (8, 4)},\n",
              " {(1, 6), (2, 2), (3, 7), (4, 1), (5, 3), (6, 5), (7, 8), (8, 4)},\n",
              " {(1, 6), (2, 2), (3, 7), (4, 1), (5, 4), (6, 8), (7, 5), (8, 3)},\n",
              " {(1, 6), (2, 3), (3, 1), (4, 7), (5, 5), (6, 8), (7, 2), (8, 4)},\n",
              " {(1, 6), (2, 3), (3, 1), (4, 8), (5, 4), (6, 2), (7, 7), (8, 5)},\n",
              " {(1, 6), (2, 3), (3, 1), (4, 8), (5, 5), (6, 2), (7, 4), (8, 7)},\n",
              " {(1, 6), (2, 3), (3, 5), (4, 7), (5, 1), (6, 4), (7, 2), (8, 8)},\n",
              " {(1, 6), (2, 3), (3, 5), (4, 8), (5, 1), (6, 4), (7, 2), (8, 7)},\n",
              " {(1, 6), (2, 3), (3, 7), (4, 2), (5, 4), (6, 8), (7, 1), (8, 5)},\n",
              " {(1, 6), (2, 3), (3, 7), (4, 2), (5, 8), (6, 5), (7, 1), (8, 4)},\n",
              " {(1, 6), (2, 3), (3, 7), (4, 4), (5, 1), (6, 8), (7, 2), (8, 5)},\n",
              " {(1, 6), (2, 4), (3, 1), (4, 5), (5, 8), (6, 2), (7, 7), (8, 3)},\n",
              " {(1, 6), (2, 4), (3, 2), (4, 8), (5, 5), (6, 7), (7, 1), (8, 3)},\n",
              " {(1, 6), (2, 4), (3, 7), (4, 1), (5, 3), (6, 5), (7, 2), (8, 8)},\n",
              " {(1, 6), (2, 4), (3, 7), (4, 1), (5, 8), (6, 2), (7, 5), (8, 3)},\n",
              " {(1, 6), (2, 8), (3, 2), (4, 4), (5, 1), (6, 7), (7, 5), (8, 3)},\n",
              " {(1, 7), (2, 1), (3, 3), (4, 8), (5, 6), (6, 4), (7, 2), (8, 5)},\n",
              " {(1, 7), (2, 2), (3, 4), (4, 1), (5, 8), (6, 5), (7, 3), (8, 6)},\n",
              " {(1, 7), (2, 2), (3, 6), (4, 3), (5, 1), (6, 4), (7, 8), (8, 5)},\n",
              " {(1, 7), (2, 3), (3, 1), (4, 6), (5, 8), (6, 5), (7, 2), (8, 4)},\n",
              " {(1, 7), (2, 3), (3, 8), (4, 2), (5, 5), (6, 1), (7, 6), (8, 4)},\n",
              " {(1, 7), (2, 4), (3, 2), (4, 5), (5, 8), (6, 1), (7, 3), (8, 6)},\n",
              " {(1, 7), (2, 4), (3, 2), (4, 8), (5, 6), (6, 1), (7, 3), (8, 5)},\n",
              " {(1, 7), (2, 5), (3, 3), (4, 1), (5, 6), (6, 8), (7, 2), (8, 4)},\n",
              " {(1, 8), (2, 2), (3, 4), (4, 1), (5, 7), (6, 5), (7, 3), (8, 6)},\n",
              " {(1, 8), (2, 2), (3, 5), (4, 3), (5, 1), (6, 7), (7, 4), (8, 6)},\n",
              " {(1, 8), (2, 3), (3, 1), (4, 6), (5, 2), (6, 5), (7, 7), (8, 4)},\n",
              " {(1, 8), (2, 4), (3, 1), (4, 3), (5, 6), (6, 2), (7, 7), (8, 5)}]"
            ]
          },
          "metadata": {
            "tags": []
          },
          "execution_count": 2
        }
      ]
    },
    {
      "cell_type": "code",
      "metadata": {
        "id": "TEqt5Joq4PTx",
        "colab": {
          "base_uri": "https://localhost:8080/"
        },
        "outputId": "c8628f54-bd5a-4ee5-9af4-7e15dd955b4b"
      },
      "source": [
        "# Remove symmetry elements\n",
        "\n",
        "# Define C4 rotation\n",
        "def c4(points):\n",
        "    transformed_points = []\n",
        "    for point in points:\n",
        "        x, y = point\n",
        "        transformed_points.append(((N + 1) - y, x))\n",
        "    return(set(transformed_points))\n",
        "\n",
        "\n",
        "# Define y=x mirror plane\n",
        "def mirror(points):\n",
        "    transformed_points = []\n",
        "    for point in points:\n",
        "        x, y = point\n",
        "        transformed_points.append((y, x))\n",
        "    return(set(transformed_points))\n",
        "\n",
        "\n",
        "# Define solutions that are equivalent\n",
        "def symmetry_equivalent_solutions(solution):\n",
        "    equivalent_solutions = []\n",
        "    equivalent_solutions.append(solution)\n",
        "    equivalent_solutions.append(mirror(solution))\n",
        "    equivalent_solutions.append(c4(solution))\n",
        "    equivalent_solutions.append(mirror(c4(solution)))\n",
        "    equivalent_solutions.append(c4(c4(solution)))\n",
        "    equivalent_solutions.append(mirror(c4(c4(solution))))\n",
        "    equivalent_solutions.append(c4(c4(c4(solution))))\n",
        "    equivalent_solutions.append(mirror(c4(c4(c4(solution)))))\n",
        "    return(equivalent_solutions)\n",
        "\n",
        "\n",
        "#remove symmetry equivalent duplicates\n",
        "unique_solutions = cp.deepcopy(solutions)\n",
        "for n, solution in enumerate(solutions):\n",
        "    found_in_solutions = False\n",
        "    for related_solution in symmetry_equivalent_solutions(solution):\n",
        "        if related_solution in solutions[n + 1:]:\n",
        "            found_in_solutions = True\n",
        "            break\n",
        "    if found_in_solutions:\n",
        "        unique_solutions.remove(solution)\n",
        "\n",
        "unique_solutions"
      ],
      "execution_count": 3,
      "outputs": [
        {
          "output_type": "execute_result",
          "data": {
            "text/plain": [
              "[{(1, 6), (2, 3), (3, 7), (4, 4), (5, 1), (6, 8), (7, 2), (8, 5)},\n",
              " {(1, 6), (2, 4), (3, 1), (4, 5), (5, 8), (6, 2), (7, 7), (8, 3)},\n",
              " {(1, 6), (2, 4), (3, 7), (4, 1), (5, 8), (6, 2), (7, 5), (8, 3)},\n",
              " {(1, 7), (2, 2), (3, 4), (4, 1), (5, 8), (6, 5), (7, 3), (8, 6)},\n",
              " {(1, 7), (2, 2), (3, 6), (4, 3), (5, 1), (6, 4), (7, 8), (8, 5)},\n",
              " {(1, 7), (2, 3), (3, 1), (4, 6), (5, 8), (6, 5), (7, 2), (8, 4)},\n",
              " {(1, 7), (2, 3), (3, 8), (4, 2), (5, 5), (6, 1), (7, 6), (8, 4)},\n",
              " {(1, 7), (2, 4), (3, 2), (4, 5), (5, 8), (6, 1), (7, 3), (8, 6)},\n",
              " {(1, 7), (2, 4), (3, 2), (4, 8), (5, 6), (6, 1), (7, 3), (8, 5)},\n",
              " {(1, 7), (2, 5), (3, 3), (4, 1), (5, 6), (6, 8), (7, 2), (8, 4)},\n",
              " {(1, 8), (2, 3), (3, 1), (4, 6), (5, 2), (6, 5), (7, 7), (8, 4)},\n",
              " {(1, 8), (2, 4), (3, 1), (4, 3), (5, 6), (6, 2), (7, 7), (8, 5)}]"
            ]
          },
          "metadata": {
            "tags": []
          },
          "execution_count": 3
        }
      ]
    },
    {
      "cell_type": "code",
      "metadata": {
        "id": "eetUy_eq4PTz",
        "colab": {
          "base_uri": "https://localhost:8080/",
          "height": 851
        },
        "outputId": "4c618c57-c705-4202-be7a-730183c31d4d"
      },
      "source": [
        "# Display solutions\n",
        "\n",
        "def plot_solution(points, savefile_name=None):\n",
        "    Z1 = np.zeros(N * N).reshape(N, N)\n",
        "    for r, x in enumerate(Z1):\n",
        "        for c, y in enumerate(x):\n",
        "            if (r + c) % 2 == 0:\n",
        "                Z1[r, c] = 1\n",
        "    plt.imshow(Z1, cmap=plt.cm.gray, interpolation='nearest',\n",
        "               extent=(0.5, N + 0.5, 0.5, N + 0.5))\n",
        "\n",
        "    row_labels = range(1, N + 1)\n",
        "    col_labels = [letter for letter in \"ABCDEFGHIJKLMNOPQRSTUVWXYZ\"][:N]\n",
        "    plt.xticks(range(1, N + 1), col_labels)\n",
        "    plt.yticks(range(1, N + 1), row_labels)\n",
        "    plt.xlim(0.5, N + 0.5)\n",
        "    plt.ylim(0.5, N + 0.5)\n",
        "    ax = plt.gca()\n",
        "    for line in ax.xaxis.get_ticklines():\n",
        "        line.set_visible(False)\n",
        "    for line in ax.yaxis.get_ticklines():\n",
        "        line.set_visible(False)\n",
        "    #plt.show()\n",
        "    for point in points:\n",
        "        plt.scatter(*point, color='r', s=500)\n",
        "    if savefile_name:\n",
        "        plt.savefig(savefile_name)\n",
        "    #return(plt.gcf())\n",
        "    \n",
        "def plot_solutions(list_of_solutions):\n",
        "    plt.gcf().set_size_inches(20,20)\n",
        "    for n, solution in enumerate(list_of_solutions):\n",
        "        plt.subplot(4,4,n+1)\n",
        "        plot_solution(solution)\n",
        "        \n",
        "\n",
        "plot_solutions(unique_solutions)"
      ],
      "execution_count": 4,
      "outputs": [
        {
          "output_type": "display_data",
          "data": {
            "image/png": "[encoded data removed]",
            "text/plain": [
              "<Figure size 1440x1440 with 12 Axes>"
            ]
          },
          "metadata": {
            "tags": [],
            "needs_background": "light"
          }
        }
      ]
    },
    {
      "cell_type": "code",
      "metadata": {
        "id": "oauW8h9j4PT0"
      },
      "source": [
        ""
      ],
      "execution_count": null,
      "outputs": []
    }
  ]
}