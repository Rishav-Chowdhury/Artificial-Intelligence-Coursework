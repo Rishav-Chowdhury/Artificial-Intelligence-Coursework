{
  "nbformat": 4,
  "nbformat_minor": 0,
  "metadata": {
    "colab": {
      "name": "Lab7_Unification.ipynb",
      "provenance": [],
      "collapsed_sections": [],
      "authorship_tag": "ABX9TyNpfLSd8hVRL2RnQvJAem0z",
      "include_colab_link": true
    },
    "kernelspec": {
      "name": "python3",
      "display_name": "Python 3"
    },
    "language_info": {
      "name": "python"
    }
  },
  "cells": [
    {
      "cell_type": "markdown",
      "metadata": {
        "id": "view-in-github",
        "colab_type": "text"
      },
      "source": [
        "<a href=\"https://colab.research.google.com/github/Rishav-Chowdhury/Artificial-Intelligence-Coursework/blob/main/Lab7_Unification.ipynb\" target=\"_parent\"><img src=\"https://colab.research.google.com/assets/colab-badge.svg\" alt=\"Open In Colab\"/></a>"
      ]
    },
    {
      "cell_type": "code",
      "metadata": {
        "colab": {
          "base_uri": "https://localhost:8080/"
        },
        "id": "_qcIgI8mbC3n",
        "outputId": "d211ca9a-4064-4f69-f218-8def697aaaac"
      },
      "source": [
        "#unification\n",
        "\n",
        "def get_index_comma(string):\n",
        "    index_list = list()\n",
        "    par_count = 0\n",
        "    for i in range(len(string)):\n",
        "        if string[i] == ',' and par_count == 0:\n",
        "            index_list.append(i)\n",
        "        elif string[i] == '(':\n",
        "            par_count += 1\n",
        "        elif string[i] == ')':\n",
        "            par_count -= 1\n",
        "\n",
        "    return index_list\n",
        "\n",
        "def is_variable(expr):\n",
        "    for i in expr:\n",
        "        if i == '(':\n",
        "            return False\n",
        "    return True\n",
        "\n",
        "def process_expression(expr):\n",
        "    expr = expr.replace(' ', '')\n",
        "    index = None\n",
        "    for i in range(len(expr)):\n",
        "        if expr[i] == '(':\n",
        "            index = i\n",
        "            break\n",
        "\n",
        "    predicate_symbol = expr[:index]\n",
        "    expr = expr.replace(predicate_symbol, '')\n",
        "    expr = expr[1:len(expr) - 1]\n",
        "    arg_list = list()\n",
        "    indices = get_index_comma(expr)\n",
        "    if len(indices) == 0:\n",
        "        arg_list.append(expr)\n",
        "    else:\n",
        "        arg_list.append(expr[:indices[0]])\n",
        "        for i, j in zip(indices, indices[1:]):\n",
        "            arg_list.append(expr[i + 1:j])\n",
        "        arg_list.append(expr[indices[len(indices) - 1] + 1:])\n",
        "\n",
        "    return predicate_symbol, arg_list\n",
        "\n",
        "\n",
        "def get_arg_list(expr):\n",
        "    _, arg_list = process_expression(expr)\n",
        "    flag = True\n",
        "    while flag:\n",
        "        flag = False\n",
        "        for i in arg_list:\n",
        "            if not is_variable(i):\n",
        "                flag = True\n",
        "                _, tmp = process_expression(i)\n",
        "                for j in tmp:\n",
        "                    if j not in arg_list:\n",
        "                        arg_list.append(j)\n",
        "                arg_list.remove(i)\n",
        "    return arg_list\n",
        "\n",
        "\n",
        "def check_occurs(var, expr):\n",
        "    arg_list = get_arg_list(expr)\n",
        "    if var in arg_list:\n",
        "        return True\n",
        "    return False\n",
        "\n",
        "\n",
        "def unify(expr1, expr2):\n",
        "    if is_variable(expr1) and is_variable(expr2):\n",
        "        if expr1 == expr2:\n",
        "            return 'Null'\n",
        "        else:\n",
        "            return False\n",
        "    elif is_variable(expr1) and not is_variable(expr2):\n",
        "        if check_occurs(expr1, expr2):\n",
        "            return False\n",
        "        else:\n",
        "            tmp = str(expr2) + '/' + str(expr1)\n",
        "            return tmp\n",
        "    elif not is_variable(expr1) and is_variable(expr2):\n",
        "        if check_occurs(expr2, expr1):\n",
        "            return False\n",
        "        else:\n",
        "            tmp = str(expr1) + '/' + str(expr2)\n",
        "            return tmp\n",
        "    else:\n",
        "        predicate_symbol_1, arg_list_1 = process_expression(expr1)\n",
        "        predicate_symbol_2, arg_list_2 = process_expression(expr2)\n",
        "        if predicate_symbol_1 != predicate_symbol_2:\n",
        "            return False\n",
        "        elif len(arg_list_1) != len(arg_list_2):\n",
        "            return False\n",
        "        else:\n",
        "            sub_list = list()\n",
        "\n",
        "            for i in range(len(arg_list_1)):\n",
        "                tmp = unify(arg_list_1[i], arg_list_2[i])\n",
        "\n",
        "                if not tmp:\n",
        "                    return False\n",
        "                elif tmp == 'Null':\n",
        "                    pass\n",
        "                else:\n",
        "                    if type(tmp) == list:\n",
        "                        for j in tmp:\n",
        "                            sub_list.append(j)\n",
        "                    else:\n",
        "                        sub_list.append(tmp)\n",
        "            return sub_list\n",
        "\n",
        "\n",
        "if __name__ == '__main__':\n",
        "\n",
        "    f1 = 'Q(a, g(x, a), f(y))'\n",
        "    f2 = 'Q(a, g(f(b), a), x)'\n",
        "\n",
        "    result = unify(f1, f2)\n",
        "    if not result:\n",
        "        print('Unification has failed!')\n",
        "    else:\n",
        "        print('Unification is successful!')\n",
        "        print(result)"
      ],
      "execution_count": null,
      "outputs": [
        {
          "output_type": "stream",
          "text": [
            "Unification is successful!\n",
            "['f(b)/x', 'f(y)/x']\n"
          ],
          "name": "stdout"
        }
      ]
    },
    {
      "cell_type": "code",
      "metadata": {
        "id": "rC_sJrf3cD2E"
      },
      "source": [
        ""
      ],
      "execution_count": null,
      "outputs": []
    }
  ]
}